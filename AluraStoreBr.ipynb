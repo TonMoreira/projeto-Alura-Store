{
  "nbformat": 4,
  "nbformat_minor": 0,
  "metadata": {
    "colab": {
      "provenance": [],
      "include_colab_link": true
    },
    "kernelspec": {
      "name": "python3",
      "display_name": "Python 3"
    },
    "language_info": {
      "name": "python"
    }
  },
  "cells": [
    {
      "cell_type": "markdown",
      "metadata": {
        "id": "view-in-github",
        "colab_type": "text"
      },
      "source": [
        "<a href=\"https://colab.research.google.com/github/TonMoreira/projeto-Alura-Store/blob/main/AluraStoreBr.ipynb\" target=\"_parent\"><img src=\"https://colab.research.google.com/assets/colab-badge.svg\" alt=\"Open In Colab\"/></a>"
      ]
    },
    {
      "cell_type": "markdown",
      "source": [
        "### Importação dos dados\n",
        "\n"
      ],
      "metadata": {
        "id": "RhEdWd9YUR6H"
      }
    },
    {
      "cell_type": "code",
      "execution_count": 1,
      "metadata": {
        "colab": {
          "base_uri": "https://localhost:8080/",
          "height": 258
        },
        "id": "T3EvaeQ_INIL",
        "outputId": "9cea1216-6996-465b-e476-adef26b89d98"
      },
      "outputs": [
        {
          "output_type": "execute_result",
          "data": {
            "text/plain": [
              "                 Produto Categoria do Produto    Preço      Frete  \\\n",
              "0     Assistente virtual          eletronicos   219.08   9.249790   \n",
              "1         Mesa de jantar               moveis   256.35  11.234305   \n",
              "2      Jogo de tabuleiro           brinquedos   279.51  21.262681   \n",
              "3            Micro-ondas     eletrodomesticos  1009.99  54.667344   \n",
              "4  Cadeira de escritório               moveis   446.99  26.964689   \n",
              "\n",
              "  Data da Compra        Vendedor Local da compra  Avaliação da compra  \\\n",
              "0     16/01/2021     Pedro Gomes              SP                    4   \n",
              "1     18/05/2022  Beatriz Moraes              RJ                    1   \n",
              "2     15/03/2021      João Souza              DF                    1   \n",
              "3     03/05/2022      João Souza              RS                    4   \n",
              "4     07/11/2020   Larissa Alves              MG                    5   \n",
              "\n",
              "  Tipo de pagamento  Quantidade de parcelas    lat    lon  \n",
              "0    cartao_credito                       8 -22.19 -48.79  \n",
              "1    cartao_credito                       4 -22.25 -42.66  \n",
              "2    cartao_credito                       1 -15.83 -47.86  \n",
              "3            boleto                       1 -30.17 -53.50  \n",
              "4            boleto                       1 -18.10 -44.38  "
            ],
            "text/html": [
              "\n",
              "  <div id=\"df-e857ca87-cb38-4fe3-8723-f9d4cfec41ac\" class=\"colab-df-container\">\n",
              "    <div>\n",
              "<style scoped>\n",
              "    .dataframe tbody tr th:only-of-type {\n",
              "        vertical-align: middle;\n",
              "    }\n",
              "\n",
              "    .dataframe tbody tr th {\n",
              "        vertical-align: top;\n",
              "    }\n",
              "\n",
              "    .dataframe thead th {\n",
              "        text-align: right;\n",
              "    }\n",
              "</style>\n",
              "<table border=\"1\" class=\"dataframe\">\n",
              "  <thead>\n",
              "    <tr style=\"text-align: right;\">\n",
              "      <th></th>\n",
              "      <th>Produto</th>\n",
              "      <th>Categoria do Produto</th>\n",
              "      <th>Preço</th>\n",
              "      <th>Frete</th>\n",
              "      <th>Data da Compra</th>\n",
              "      <th>Vendedor</th>\n",
              "      <th>Local da compra</th>\n",
              "      <th>Avaliação da compra</th>\n",
              "      <th>Tipo de pagamento</th>\n",
              "      <th>Quantidade de parcelas</th>\n",
              "      <th>lat</th>\n",
              "      <th>lon</th>\n",
              "    </tr>\n",
              "  </thead>\n",
              "  <tbody>\n",
              "    <tr>\n",
              "      <th>0</th>\n",
              "      <td>Assistente virtual</td>\n",
              "      <td>eletronicos</td>\n",
              "      <td>219.08</td>\n",
              "      <td>9.249790</td>\n",
              "      <td>16/01/2021</td>\n",
              "      <td>Pedro Gomes</td>\n",
              "      <td>SP</td>\n",
              "      <td>4</td>\n",
              "      <td>cartao_credito</td>\n",
              "      <td>8</td>\n",
              "      <td>-22.19</td>\n",
              "      <td>-48.79</td>\n",
              "    </tr>\n",
              "    <tr>\n",
              "      <th>1</th>\n",
              "      <td>Mesa de jantar</td>\n",
              "      <td>moveis</td>\n",
              "      <td>256.35</td>\n",
              "      <td>11.234305</td>\n",
              "      <td>18/05/2022</td>\n",
              "      <td>Beatriz Moraes</td>\n",
              "      <td>RJ</td>\n",
              "      <td>1</td>\n",
              "      <td>cartao_credito</td>\n",
              "      <td>4</td>\n",
              "      <td>-22.25</td>\n",
              "      <td>-42.66</td>\n",
              "    </tr>\n",
              "    <tr>\n",
              "      <th>2</th>\n",
              "      <td>Jogo de tabuleiro</td>\n",
              "      <td>brinquedos</td>\n",
              "      <td>279.51</td>\n",
              "      <td>21.262681</td>\n",
              "      <td>15/03/2021</td>\n",
              "      <td>João Souza</td>\n",
              "      <td>DF</td>\n",
              "      <td>1</td>\n",
              "      <td>cartao_credito</td>\n",
              "      <td>1</td>\n",
              "      <td>-15.83</td>\n",
              "      <td>-47.86</td>\n",
              "    </tr>\n",
              "    <tr>\n",
              "      <th>3</th>\n",
              "      <td>Micro-ondas</td>\n",
              "      <td>eletrodomesticos</td>\n",
              "      <td>1009.99</td>\n",
              "      <td>54.667344</td>\n",
              "      <td>03/05/2022</td>\n",
              "      <td>João Souza</td>\n",
              "      <td>RS</td>\n",
              "      <td>4</td>\n",
              "      <td>boleto</td>\n",
              "      <td>1</td>\n",
              "      <td>-30.17</td>\n",
              "      <td>-53.50</td>\n",
              "    </tr>\n",
              "    <tr>\n",
              "      <th>4</th>\n",
              "      <td>Cadeira de escritório</td>\n",
              "      <td>moveis</td>\n",
              "      <td>446.99</td>\n",
              "      <td>26.964689</td>\n",
              "      <td>07/11/2020</td>\n",
              "      <td>Larissa Alves</td>\n",
              "      <td>MG</td>\n",
              "      <td>5</td>\n",
              "      <td>boleto</td>\n",
              "      <td>1</td>\n",
              "      <td>-18.10</td>\n",
              "      <td>-44.38</td>\n",
              "    </tr>\n",
              "  </tbody>\n",
              "</table>\n",
              "</div>\n",
              "    <div class=\"colab-df-buttons\">\n",
              "\n",
              "  <div class=\"colab-df-container\">\n",
              "    <button class=\"colab-df-convert\" onclick=\"convertToInteractive('df-e857ca87-cb38-4fe3-8723-f9d4cfec41ac')\"\n",
              "            title=\"Convert this dataframe to an interactive table.\"\n",
              "            style=\"display:none;\">\n",
              "\n",
              "  <svg xmlns=\"http://www.w3.org/2000/svg\" height=\"24px\" viewBox=\"0 -960 960 960\">\n",
              "    <path d=\"M120-120v-720h720v720H120Zm60-500h600v-160H180v160Zm220 220h160v-160H400v160Zm0 220h160v-160H400v160ZM180-400h160v-160H180v160Zm440 0h160v-160H620v160ZM180-180h160v-160H180v160Zm440 0h160v-160H620v160Z\"/>\n",
              "  </svg>\n",
              "    </button>\n",
              "\n",
              "  <style>\n",
              "    .colab-df-container {\n",
              "      display:flex;\n",
              "      gap: 12px;\n",
              "    }\n",
              "\n",
              "    .colab-df-convert {\n",
              "      background-color: #E8F0FE;\n",
              "      border: none;\n",
              "      border-radius: 50%;\n",
              "      cursor: pointer;\n",
              "      display: none;\n",
              "      fill: #1967D2;\n",
              "      height: 32px;\n",
              "      padding: 0 0 0 0;\n",
              "      width: 32px;\n",
              "    }\n",
              "\n",
              "    .colab-df-convert:hover {\n",
              "      background-color: #E2EBFA;\n",
              "      box-shadow: 0px 1px 2px rgba(60, 64, 67, 0.3), 0px 1px 3px 1px rgba(60, 64, 67, 0.15);\n",
              "      fill: #174EA6;\n",
              "    }\n",
              "\n",
              "    .colab-df-buttons div {\n",
              "      margin-bottom: 4px;\n",
              "    }\n",
              "\n",
              "    [theme=dark] .colab-df-convert {\n",
              "      background-color: #3B4455;\n",
              "      fill: #D2E3FC;\n",
              "    }\n",
              "\n",
              "    [theme=dark] .colab-df-convert:hover {\n",
              "      background-color: #434B5C;\n",
              "      box-shadow: 0px 1px 3px 1px rgba(0, 0, 0, 0.15);\n",
              "      filter: drop-shadow(0px 1px 2px rgba(0, 0, 0, 0.3));\n",
              "      fill: #FFFFFF;\n",
              "    }\n",
              "  </style>\n",
              "\n",
              "    <script>\n",
              "      const buttonEl =\n",
              "        document.querySelector('#df-e857ca87-cb38-4fe3-8723-f9d4cfec41ac button.colab-df-convert');\n",
              "      buttonEl.style.display =\n",
              "        google.colab.kernel.accessAllowed ? 'block' : 'none';\n",
              "\n",
              "      async function convertToInteractive(key) {\n",
              "        const element = document.querySelector('#df-e857ca87-cb38-4fe3-8723-f9d4cfec41ac');\n",
              "        const dataTable =\n",
              "          await google.colab.kernel.invokeFunction('convertToInteractive',\n",
              "                                                    [key], {});\n",
              "        if (!dataTable) return;\n",
              "\n",
              "        const docLinkHtml = 'Like what you see? Visit the ' +\n",
              "          '<a target=\"_blank\" href=https://colab.research.google.com/notebooks/data_table.ipynb>data table notebook</a>'\n",
              "          + ' to learn more about interactive tables.';\n",
              "        element.innerHTML = '';\n",
              "        dataTable['output_type'] = 'display_data';\n",
              "        await google.colab.output.renderOutput(dataTable, element);\n",
              "        const docLink = document.createElement('div');\n",
              "        docLink.innerHTML = docLinkHtml;\n",
              "        element.appendChild(docLink);\n",
              "      }\n",
              "    </script>\n",
              "  </div>\n",
              "\n",
              "\n",
              "<div id=\"df-0f0e6fcc-0f31-42ec-8365-c0c21911d81d\">\n",
              "  <button class=\"colab-df-quickchart\" onclick=\"quickchart('df-0f0e6fcc-0f31-42ec-8365-c0c21911d81d')\"\n",
              "            title=\"Suggest charts\"\n",
              "            style=\"display:none;\">\n",
              "\n",
              "<svg xmlns=\"http://www.w3.org/2000/svg\" height=\"24px\"viewBox=\"0 0 24 24\"\n",
              "     width=\"24px\">\n",
              "    <g>\n",
              "        <path d=\"M19 3H5c-1.1 0-2 .9-2 2v14c0 1.1.9 2 2 2h14c1.1 0 2-.9 2-2V5c0-1.1-.9-2-2-2zM9 17H7v-7h2v7zm4 0h-2V7h2v10zm4 0h-2v-4h2v4z\"/>\n",
              "    </g>\n",
              "</svg>\n",
              "  </button>\n",
              "\n",
              "<style>\n",
              "  .colab-df-quickchart {\n",
              "      --bg-color: #E8F0FE;\n",
              "      --fill-color: #1967D2;\n",
              "      --hover-bg-color: #E2EBFA;\n",
              "      --hover-fill-color: #174EA6;\n",
              "      --disabled-fill-color: #AAA;\n",
              "      --disabled-bg-color: #DDD;\n",
              "  }\n",
              "\n",
              "  [theme=dark] .colab-df-quickchart {\n",
              "      --bg-color: #3B4455;\n",
              "      --fill-color: #D2E3FC;\n",
              "      --hover-bg-color: #434B5C;\n",
              "      --hover-fill-color: #FFFFFF;\n",
              "      --disabled-bg-color: #3B4455;\n",
              "      --disabled-fill-color: #666;\n",
              "  }\n",
              "\n",
              "  .colab-df-quickchart {\n",
              "    background-color: var(--bg-color);\n",
              "    border: none;\n",
              "    border-radius: 50%;\n",
              "    cursor: pointer;\n",
              "    display: none;\n",
              "    fill: var(--fill-color);\n",
              "    height: 32px;\n",
              "    padding: 0;\n",
              "    width: 32px;\n",
              "  }\n",
              "\n",
              "  .colab-df-quickchart:hover {\n",
              "    background-color: var(--hover-bg-color);\n",
              "    box-shadow: 0 1px 2px rgba(60, 64, 67, 0.3), 0 1px 3px 1px rgba(60, 64, 67, 0.15);\n",
              "    fill: var(--button-hover-fill-color);\n",
              "  }\n",
              "\n",
              "  .colab-df-quickchart-complete:disabled,\n",
              "  .colab-df-quickchart-complete:disabled:hover {\n",
              "    background-color: var(--disabled-bg-color);\n",
              "    fill: var(--disabled-fill-color);\n",
              "    box-shadow: none;\n",
              "  }\n",
              "\n",
              "  .colab-df-spinner {\n",
              "    border: 2px solid var(--fill-color);\n",
              "    border-color: transparent;\n",
              "    border-bottom-color: var(--fill-color);\n",
              "    animation:\n",
              "      spin 1s steps(1) infinite;\n",
              "  }\n",
              "\n",
              "  @keyframes spin {\n",
              "    0% {\n",
              "      border-color: transparent;\n",
              "      border-bottom-color: var(--fill-color);\n",
              "      border-left-color: var(--fill-color);\n",
              "    }\n",
              "    20% {\n",
              "      border-color: transparent;\n",
              "      border-left-color: var(--fill-color);\n",
              "      border-top-color: var(--fill-color);\n",
              "    }\n",
              "    30% {\n",
              "      border-color: transparent;\n",
              "      border-left-color: var(--fill-color);\n",
              "      border-top-color: var(--fill-color);\n",
              "      border-right-color: var(--fill-color);\n",
              "    }\n",
              "    40% {\n",
              "      border-color: transparent;\n",
              "      border-right-color: var(--fill-color);\n",
              "      border-top-color: var(--fill-color);\n",
              "    }\n",
              "    60% {\n",
              "      border-color: transparent;\n",
              "      border-right-color: var(--fill-color);\n",
              "    }\n",
              "    80% {\n",
              "      border-color: transparent;\n",
              "      border-right-color: var(--fill-color);\n",
              "      border-bottom-color: var(--fill-color);\n",
              "    }\n",
              "    90% {\n",
              "      border-color: transparent;\n",
              "      border-bottom-color: var(--fill-color);\n",
              "    }\n",
              "  }\n",
              "</style>\n",
              "\n",
              "  <script>\n",
              "    async function quickchart(key) {\n",
              "      const quickchartButtonEl =\n",
              "        document.querySelector('#' + key + ' button');\n",
              "      quickchartButtonEl.disabled = true;  // To prevent multiple clicks.\n",
              "      quickchartButtonEl.classList.add('colab-df-spinner');\n",
              "      try {\n",
              "        const charts = await google.colab.kernel.invokeFunction(\n",
              "            'suggestCharts', [key], {});\n",
              "      } catch (error) {\n",
              "        console.error('Error during call to suggestCharts:', error);\n",
              "      }\n",
              "      quickchartButtonEl.classList.remove('colab-df-spinner');\n",
              "      quickchartButtonEl.classList.add('colab-df-quickchart-complete');\n",
              "    }\n",
              "    (() => {\n",
              "      let quickchartButtonEl =\n",
              "        document.querySelector('#df-0f0e6fcc-0f31-42ec-8365-c0c21911d81d button');\n",
              "      quickchartButtonEl.style.display =\n",
              "        google.colab.kernel.accessAllowed ? 'block' : 'none';\n",
              "    })();\n",
              "  </script>\n",
              "</div>\n",
              "\n",
              "    </div>\n",
              "  </div>\n"
            ],
            "application/vnd.google.colaboratory.intrinsic+json": {
              "type": "dataframe",
              "variable_name": "loja",
              "summary": "{\n  \"name\": \"loja\",\n  \"rows\": 2359,\n  \"fields\": [\n    {\n      \"column\": \"Produto\",\n      \"properties\": {\n        \"dtype\": \"category\",\n        \"num_unique_values\": 51,\n        \"samples\": [\n          \"Viol\\u00e3o\",\n          \"Bola de basquete\",\n          \"Smartwatch\"\n        ],\n        \"semantic_type\": \"\",\n        \"description\": \"\"\n      }\n    },\n    {\n      \"column\": \"Categoria do Produto\",\n      \"properties\": {\n        \"dtype\": \"category\",\n        \"num_unique_values\": 8,\n        \"samples\": [\n          \"moveis\",\n          \"esporte e lazer\",\n          \"eletronicos\"\n        ],\n        \"semantic_type\": \"\",\n        \"description\": \"\"\n      }\n    },\n    {\n      \"column\": \"Pre\\u00e7o\",\n      \"properties\": {\n        \"dtype\": \"number\",\n        \"std\": 819.5827782539145,\n        \"min\": 10.07,\n        \"max\": 3969.38,\n        \"num_unique_values\": 2315,\n        \"samples\": [\n          446.11,\n          107.31,\n          65.86\n        ],\n        \"semantic_type\": \"\",\n        \"description\": \"\"\n      }\n    },\n    {\n      \"column\": \"Frete\",\n      \"properties\": {\n        \"dtype\": \"number\",\n        \"std\": 43.814183327408166,\n        \"min\": 0.0,\n        \"max\": 214.3770604781,\n        \"num_unique_values\": 2149,\n        \"samples\": [\n          83.815279607,\n          16.069664669,\n          14.0344876928\n        ],\n        \"semantic_type\": \"\",\n        \"description\": \"\"\n      }\n    },\n    {\n      \"column\": \"Data da Compra\",\n      \"properties\": {\n        \"dtype\": \"object\",\n        \"num_unique_values\": 1018,\n        \"samples\": [\n          \"15/09/2022\",\n          \"03/06/2020\",\n          \"06/11/2021\"\n        ],\n        \"semantic_type\": \"\",\n        \"description\": \"\"\n      }\n    },\n    {\n      \"column\": \"Vendedor\",\n      \"properties\": {\n        \"dtype\": \"category\",\n        \"num_unique_values\": 14,\n        \"samples\": [\n          \"Juliana Costa\",\n          \"Mariana Ferreira\",\n          \"Pedro Gomes\"\n        ],\n        \"semantic_type\": \"\",\n        \"description\": \"\"\n      }\n    },\n    {\n      \"column\": \"Local da compra\",\n      \"properties\": {\n        \"dtype\": \"category\",\n        \"num_unique_values\": 26,\n        \"samples\": [\n          \"TO\",\n          \"RN\",\n          \"SP\"\n        ],\n        \"semantic_type\": \"\",\n        \"description\": \"\"\n      }\n    },\n    {\n      \"column\": \"Avalia\\u00e7\\u00e3o da compra\",\n      \"properties\": {\n        \"dtype\": \"number\",\n        \"std\": 1,\n        \"min\": 1,\n        \"max\": 5,\n        \"num_unique_values\": 5,\n        \"samples\": [\n          1,\n          2,\n          5\n        ],\n        \"semantic_type\": \"\",\n        \"description\": \"\"\n      }\n    },\n    {\n      \"column\": \"Tipo de pagamento\",\n      \"properties\": {\n        \"dtype\": \"category\",\n        \"num_unique_values\": 4,\n        \"samples\": [\n          \"boleto\",\n          \"cartao_debito\",\n          \"cartao_credito\"\n        ],\n        \"semantic_type\": \"\",\n        \"description\": \"\"\n      }\n    },\n    {\n      \"column\": \"Quantidade de parcelas\",\n      \"properties\": {\n        \"dtype\": \"number\",\n        \"std\": 2,\n        \"min\": 1,\n        \"max\": 24,\n        \"num_unique_values\": 15,\n        \"samples\": [\n          7,\n          14,\n          8\n        ],\n        \"semantic_type\": \"\",\n        \"description\": \"\"\n      }\n    },\n    {\n      \"column\": \"lat\",\n      \"properties\": {\n        \"dtype\": \"number\",\n        \"std\": 5.372399916530833,\n        \"min\": -30.17,\n        \"max\": 1.41,\n        \"num_unique_values\": 26,\n        \"samples\": [\n          -9.46,\n          -5.81,\n          -22.19\n        ],\n        \"semantic_type\": \"\",\n        \"description\": \"\"\n      }\n    },\n    {\n      \"column\": \"lon\",\n      \"properties\": {\n        \"dtype\": \"number\",\n        \"std\": 4.183180020544179,\n        \"min\": -70.55,\n        \"max\": -36.59,\n        \"num_unique_values\": 26,\n        \"samples\": [\n          -48.26,\n          -36.59,\n          -48.79\n        ],\n        \"semantic_type\": \"\",\n        \"description\": \"\"\n      }\n    }\n  ]\n}"
            }
          },
          "metadata": {},
          "execution_count": 1
        }
      ],
      "source": [
        "import pandas as pd\n",
        "\n",
        "url = \"https://raw.githubusercontent.com/alura-es-cursos/challenge1-data-science/refs/heads/main/base-de-dados-challenge-1/loja_1.csv\"\n",
        "url2 = \"https://raw.githubusercontent.com/alura-es-cursos/challenge1-data-science/refs/heads/main/base-de-dados-challenge-1/loja_2.csv\"\n",
        "url3 = \"https://raw.githubusercontent.com/alura-es-cursos/challenge1-data-science/refs/heads/main/base-de-dados-challenge-1/loja_3.csv\"\n",
        "url4 = \"https://raw.githubusercontent.com/alura-es-cursos/challenge1-data-science/refs/heads/main/base-de-dados-challenge-1/loja_4.csv\"\n",
        "\n",
        "loja = pd.read_csv(url)\n",
        "loja2 = pd.read_csv(url2)\n",
        "loja3 = pd.read_csv(url3)\n",
        "loja4 = pd.read_csv(url4)\n",
        "\n",
        "loja.head()"
      ]
    },
    {
      "cell_type": "markdown",
      "source": [
        "#1. Análise do faturamento\n"
      ],
      "metadata": {
        "id": "X62IW3KFUIYm"
      }
    },
    {
      "cell_type": "code",
      "source": [
        "print(loja.columns)"
      ],
      "metadata": {
        "id": "xykobSftV64I",
        "colab": {
          "base_uri": "https://localhost:8080/"
        },
        "outputId": "86517acf-92f3-4a96-89d2-4fa415c3f3ff"
      },
      "execution_count": 9,
      "outputs": [
        {
          "output_type": "stream",
          "name": "stdout",
          "text": [
            "Index(['Produto', 'Categoria do Produto', 'Preço', 'Frete', 'Data da Compra',\n",
            "       'Vendedor', 'Local da compra', 'Avaliação da compra',\n",
            "       'Tipo de pagamento', 'Quantidade de parcelas', 'lat', 'lon'],\n",
            "      dtype='object')\n"
          ]
        }
      ]
    },
    {
      "cell_type": "code",
      "source": [
        "fatura_loja = loja[\"Preço\"].sum()\n",
        "print(\"Faturamento total da loja 1:\", fatura_loja)\n",
        "\n",
        "fatura_loja2 = loja2[\"Preço\"].sum()\n",
        "print(\"Faturamento total da loja 2:\", fatura_loja2)\n",
        "\n",
        "fatura_loja3 = loja3[\"Preço\"].sum()\n",
        "print(\"Faturamento total da loja 3:\", fatura_loja3)\n",
        "\n",
        "fatura_loja4 = loja4[\"Preço\"].sum()\n",
        "print(\"Faturamento total da loja 4:\", fatura_loja4)"
      ],
      "metadata": {
        "id": "KDyr8E71V3m-",
        "colab": {
          "base_uri": "https://localhost:8080/"
        },
        "outputId": "e255316f-4446-4fdc-e731-e899b5396736"
      },
      "execution_count": 10,
      "outputs": [
        {
          "output_type": "stream",
          "name": "stdout",
          "text": [
            "Faturamento total da loja 1: 1534509.12\n",
            "Faturamento total da loja 2: 1488459.06\n",
            "Faturamento total da loja 3: 1464025.03\n",
            "Faturamento total da loja 4: 1384497.58\n"
          ]
        }
      ]
    },
    {
      "cell_type": "markdown",
      "source": [
        "# 2. Vendas por Categoria\n"
      ],
      "metadata": {
        "id": "2V_vcAPzWZmR"
      }
    },
    {
      "cell_type": "code",
      "source": [
        "print(\"Loja 01 \\n\", loja[\"Categoria do Produto\"].value_counts())\n",
        "print(\"\\nLoja 02 \\n\", loja2[\"Categoria do Produto\"].value_counts())\n",
        "print(\"\\nLoja 03 \\n\", loja3[\"Categoria do Produto\"].value_counts())\n",
        "print(\"\\nLoja 04 \\n\", loja4[\"Categoria do Produto\"].value_counts())"
      ],
      "metadata": {
        "id": "A34YupIuYhfF",
        "colab": {
          "base_uri": "https://localhost:8080/"
        },
        "outputId": "fcd184a2-29fc-48c9-95b6-8e9573661907"
      },
      "execution_count": 16,
      "outputs": [
        {
          "output_type": "stream",
          "name": "stdout",
          "text": [
            "Loja 01 \n",
            " Categoria do Produto\n",
            "moveis                   465\n",
            "eletronicos              448\n",
            "brinquedos               324\n",
            "eletrodomesticos         312\n",
            "esporte e lazer          284\n",
            "instrumentos musicais    182\n",
            "livros                   173\n",
            "utilidades domesticas    171\n",
            "Name: count, dtype: int64\n",
            "\n",
            "Loja 02 \n",
            " Categoria do Produto\n",
            "moveis                   442\n",
            "eletronicos              422\n",
            "brinquedos               313\n",
            "eletrodomesticos         305\n",
            "esporte e lazer          275\n",
            "instrumentos musicais    224\n",
            "livros                   197\n",
            "utilidades domesticas    181\n",
            "Name: count, dtype: int64\n",
            "\n",
            "Loja 03 \n",
            " Categoria do Produto\n",
            "moveis                   499\n",
            "eletronicos              451\n",
            "brinquedos               315\n",
            "eletrodomesticos         278\n",
            "esporte e lazer          277\n",
            "livros                   185\n",
            "instrumentos musicais    177\n",
            "utilidades domesticas    177\n",
            "Name: count, dtype: int64\n",
            "\n",
            "Loja 04 \n",
            " Categoria do Produto\n",
            "moveis                   480\n",
            "eletronicos              451\n",
            "brinquedos               338\n",
            "esporte e lazer          277\n",
            "eletrodomesticos         254\n",
            "utilidades domesticas    201\n",
            "livros                   187\n",
            "instrumentos musicais    170\n",
            "Name: count, dtype: int64\n"
          ]
        }
      ]
    },
    {
      "cell_type": "code",
      "source": [],
      "metadata": {
        "id": "yZR6cOjXYSk1"
      },
      "execution_count": 1,
      "outputs": []
    },
    {
      "cell_type": "markdown",
      "source": [
        "# 3. Média de Avaliação das Lojas"
      ],
      "metadata": {
        "id": "Rq6tU_xSY3jk"
      }
    },
    {
      "cell_type": "code",
      "source": [
        "media_avaliacao_loja1 = loja[\"Avaliação da compra\"].mean()\n",
        "print(\"Média geral da avaliação da compra na Loja 1:\", media_avaliacao_loja1)\n",
        "\n",
        "media_avaliacao_loja2 = loja2[\"Avaliação da compra\"].mean()\n",
        "print(\"Média geral da avaliação da compra na Loja 2:\", media_avaliacao_loja2)\n",
        "\n",
        "media_avaliacao_loja3 = loja3[\"Avaliação da compra\"].mean()\n",
        "print(\"Média geral da avaliação da compra na Loja 3:\", media_avaliacao_loja3)\n",
        "\n",
        "media_avaliacao_loja4 = loja4[\"Avaliação da compra\"].mean()\n",
        "print(\"Média geral da avaliação da compra na Loja 4:\", media_avaliacao_loja4)"
      ],
      "metadata": {
        "id": "bh3jjjJwY5MU",
        "colab": {
          "base_uri": "https://localhost:8080/"
        },
        "outputId": "a3253ef2-f77b-4620-d9cf-d5bcdc646bf4"
      },
      "execution_count": 17,
      "outputs": [
        {
          "output_type": "stream",
          "name": "stdout",
          "text": [
            "Média geral da avaliação da compra na Loja 1: 3.976685036032217\n",
            "Média geral da avaliação da compra na Loja 2: 4.037303942348453\n",
            "Média geral da avaliação da compra na Loja 3: 4.048325561678677\n",
            "Média geral da avaliação da compra na Loja 4: 3.9957591178965224\n"
          ]
        }
      ]
    },
    {
      "cell_type": "code",
      "source": [
        "produto_vendido_loja1 = loja[\"Produto\"].value_counts().index[0]\n",
        "\n",
        "if produto_vendido_loja1 in loja[\"Produto\"].values:\n",
        "    media_produto_loja1 = loja.loc[loja[\"Produto\"] == produto_vendido_loja1, \"Avaliação da compra\"].mean()\n",
        "    print(f\"Média da avaliação para o produto '{produto_vendido_loja1}' que o mais vendido na Loja 1:\", media_produto_loja1)\n",
        "\n",
        "produto_vendido_loja2 = loja2[\"Produto\"].value_counts().index[0]\n",
        "\n",
        "if produto_vendido_loja2 in loja2[\"Produto\"].values:\n",
        "    media_produto_loja2 = loja2.loc[loja[\"Produto\"] == produto_vendido_loja2, \"Avaliação da compra\"].mean()\n",
        "    print(f\"Média da avaliação para o produto '{produto_vendido_loja2}' que o mais vendido na Loja 2:\", media_produto_loja2)\n",
        "\n",
        "produto_vendido_loja3 = loja3[\"Produto\"].value_counts().index[0]\n",
        "\n",
        "if produto_vendido_loja3 in loja3[\"Produto\"].values:\n",
        "    media_produto_loja3 = loja3.loc[loja[\"Produto\"] == produto_vendido_loja3, \"Avaliação da compra\"].mean()\n",
        "    print(f\"Média da avaliação para o produto '{produto_vendido_loja3}' que o mais vendido na Loja 3:\", media_produto_loja3)\n",
        "\n",
        "produto_vendido_loja4 = loja4[\"Produto\"].value_counts().index[0]\n",
        "\n",
        "if produto_vendido_loja4 in loja4[\"Produto\"].values:\n",
        "    media_produto_loja4 = loja4.loc[loja[\"Produto\"] == produto_vendido_loja4, \"Avaliação da compra\"].mean()\n",
        "    print(f\"Média da avaliação para o produto '{produto_vendido_loja4}' que o mais vendido na Loja 4:\", media_produto_loja4)"
      ],
      "metadata": {
        "id": "I0KkjPoTY88F",
        "colab": {
          "base_uri": "https://localhost:8080/"
        },
        "outputId": "9b80947f-46a6-4b87-aa5d-80deda2268bc"
      },
      "execution_count": 26,
      "outputs": [
        {
          "output_type": "stream",
          "name": "stdout",
          "text": [
            "Média da avaliação para o produto 'Micro-ondas' que o mais vendido na Loja 1: 3.9833333333333334\n",
            "Média da avaliação para o produto 'Iniciando em programação' que o mais vendido na Loja 2: 4.097560975609756\n",
            "Média da avaliação para o produto 'Kit banquetas' que o mais vendido na Loja 3: 4.068181818181818\n",
            "Média da avaliação para o produto 'Cama box' que o mais vendido na Loja 4: 3.6818181818181817\n"
          ]
        }
      ]
    },
    {
      "cell_type": "markdown",
      "source": [
        "# 4. Produtos Mais e Menos Vendidos"
      ],
      "metadata": {
        "id": "DmNp1KPBZCm-"
      }
    },
    {
      "cell_type": "code",
      "source": [
        "# Loja 1\n",
        "contagem_produtos_loja1 = loja[\"Produto\"].value_counts()\n",
        "mais_vendido_loja1 = contagem_produtos_loja1.head(1)\n",
        "menos_vendido_loja1 = contagem_produtos_loja1.tail(1)\n",
        "\n",
        "print(\"Loja 1 - Produto mais vendido:\")\n",
        "print(mais_vendido_loja1)\n",
        "\n",
        "print(\"\\nLoja 1 - Produto menos vendido:\")\n",
        "print(menos_vendido_loja1)"
      ],
      "metadata": {
        "id": "qoyjqijQZHfF",
        "colab": {
          "base_uri": "https://localhost:8080/"
        },
        "outputId": "086bd63e-433a-4960-f38a-eced1fb824a0"
      },
      "execution_count": 21,
      "outputs": [
        {
          "output_type": "stream",
          "name": "stdout",
          "text": [
            "Loja 1 - Produto mais vendido:\n",
            "Produto\n",
            "Micro-ondas    60\n",
            "Name: count, dtype: int64\n",
            "\n",
            "Loja 1 - Produto menos vendido:\n",
            "Produto\n",
            "Celular ABXY    33\n",
            "Name: count, dtype: int64\n"
          ]
        }
      ]
    },
    {
      "cell_type": "code",
      "source": [
        "# Loja 2\n",
        "contagem_produtos_loja2 = loja2[\"Produto\"].value_counts()\n",
        "mais_vendido_loja2 = contagem_produtos_loja2.head(1)\n",
        "menos_vendido_loja2 = contagem_produtos_loja2.tail(1)\n",
        "\n",
        "print(\"Loja 2 - Produto mais vendido:\")\n",
        "print(mais_vendido_loja2)\n",
        "\n",
        "print(\"\\nLoja 2 - Produto menos vendido:\")\n",
        "print(menos_vendido_loja2)"
      ],
      "metadata": {
        "colab": {
          "base_uri": "https://localhost:8080/"
        },
        "id": "CZIs3_YKveiB",
        "outputId": "3fba6e2b-f444-4208-9247-1f2b1527cc71"
      },
      "execution_count": 27,
      "outputs": [
        {
          "output_type": "stream",
          "name": "stdout",
          "text": [
            "Loja 2 - Produto mais vendido:\n",
            "Produto\n",
            "Iniciando em programação    65\n",
            "Name: count, dtype: int64\n",
            "\n",
            "Loja 2 - Produto menos vendido:\n",
            "Produto\n",
            "Jogo de tabuleiro    32\n",
            "Name: count, dtype: int64\n"
          ]
        }
      ]
    },
    {
      "cell_type": "code",
      "source": [
        "# Loja 3\n",
        "contagem_produtos_loja3 = loja3[\"Produto\"].value_counts()\n",
        "mais_vendido_loja3 = contagem_produtos_loja3.head(1)\n",
        "menos_vendido_loja3 = contagem_produtos_loja3.tail(1)\n",
        "\n",
        "print(\"Loja 3 - Produto mais vendido:\")\n",
        "print(mais_vendido_loja3)\n",
        "\n",
        "print(\"\\nLoja 3 - Produto menos vendido:\")\n",
        "print(menos_vendido_loja3)"
      ],
      "metadata": {
        "colab": {
          "base_uri": "https://localhost:8080/"
        },
        "id": "lnIgeC1DveVs",
        "outputId": "d82c0d4b-ba13-4431-bace-7459297b09b9"
      },
      "execution_count": 28,
      "outputs": [
        {
          "output_type": "stream",
          "name": "stdout",
          "text": [
            "Loja 3 - Produto mais vendido:\n",
            "Produto\n",
            "Kit banquetas    57\n",
            "Name: count, dtype: int64\n",
            "\n",
            "Loja 3 - Produto menos vendido:\n",
            "Produto\n",
            "Blocos de montar    35\n",
            "Name: count, dtype: int64\n"
          ]
        }
      ]
    },
    {
      "cell_type": "code",
      "source": [
        "# Loja 4\n",
        "contagem_produtos_loja4 = loja4[\"Produto\"].value_counts()\n",
        "mais_vendido_loja4 = contagem_produtos_loja4.head(1)\n",
        "menos_vendido_loja4 = contagem_produtos_loja4.tail(1)\n",
        "\n",
        "print(\"Loja 4 - Produto mais vendido:\")\n",
        "print(mais_vendido_loja4)\n",
        "\n",
        "print(\"\\nLoja 4 - Produto menos vendido:\")\n",
        "print(menos_vendido_loja4)"
      ],
      "metadata": {
        "id": "0Sw3sd4IZIGW",
        "colab": {
          "base_uri": "https://localhost:8080/"
        },
        "outputId": "abb05e0f-720e-426a-aba1-88003fab030f"
      },
      "execution_count": 29,
      "outputs": [
        {
          "output_type": "stream",
          "name": "stdout",
          "text": [
            "Loja 4 - Produto mais vendido:\n",
            "Produto\n",
            "Cama box    62\n",
            "Name: count, dtype: int64\n",
            "\n",
            "Loja 4 - Produto menos vendido:\n",
            "Produto\n",
            "Guitarra    33\n",
            "Name: count, dtype: int64\n"
          ]
        }
      ]
    },
    {
      "cell_type": "markdown",
      "source": [
        "# 5. Frete Médio por Loja\n"
      ],
      "metadata": {
        "id": "Fl0cGi3bZKqU"
      }
    },
    {
      "cell_type": "code",
      "source": [
        "frete_medio_loja1 = loja[\"Frete\"].mean()\n",
        "frete_medio_loja2 = loja2[\"Frete\"].mean()\n",
        "frete_medio_loja3 = loja3[\"Frete\"].mean()\n",
        "frete_medio_loja4 = loja4[\"Frete\"].mean()\n",
        "\n",
        "print(f\"Frete médio - Loja 1: R$ {frete_medio_loja1:.2f}\")\n",
        "print(f\"Frete médio - Loja 2: R$ {frete_medio_loja2:.2f}\")\n",
        "print(f\"Frete médio - Loja 3: R$ {frete_medio_loja3:.2f}\")\n",
        "print(f\"Frete médio - Loja 4: R$ {frete_medio_loja4:.2f}\")"
      ],
      "metadata": {
        "id": "S2JeaCykZNy9",
        "colab": {
          "base_uri": "https://localhost:8080/"
        },
        "outputId": "acb98b73-51af-45ae-89e5-6c3f3607cb90"
      },
      "execution_count": 30,
      "outputs": [
        {
          "output_type": "stream",
          "name": "stdout",
          "text": [
            "Frete médio - Loja 1: R$ 34.69\n",
            "Frete médio - Loja 2: R$ 33.62\n",
            "Frete médio - Loja 3: R$ 33.07\n",
            "Frete médio - Loja 4: R$ 31.28\n"
          ]
        }
      ]
    },
    {
      "cell_type": "markdown",
      "source": [
        "# Gráfico de Linha: Faturamento total por loja (Preço + Frete)"
      ],
      "metadata": {
        "id": "QvAUduNgw9iW"
      }
    },
    {
      "cell_type": "code",
      "source": [
        "import matplotlib.pyplot as plt\n",
        "\n",
        "# Dados para o gráfico\n",
        "lojas = [\"Loja 1\", \"Loja 2\", \"Loja 3\", \"Loja 4\"]\n",
        "faturamentos = [fatura_loja, fatura_loja2, fatura_loja3, fatura_loja4]\n",
        "\n",
        "plt.figure(figsize=(8,5))\n",
        "plt.plot(lojas, faturamentos, marker='o', linestyle='-', color='green')\n",
        "plt.title(\"Faturamento Total por Loja\")\n",
        "plt.ylabel(\"Faturamento em milhões (R$)\")\n",
        "plt.xlabel(\"Lojas\")\n",
        "plt.grid(True)\n",
        "plt.tight_layout()\n",
        "plt.show()"
      ],
      "metadata": {
        "colab": {
          "base_uri": "https://localhost:8080/",
          "height": 507
        },
        "id": "7kYocLPXxBFw",
        "outputId": "d918bed5-7a9a-4a83-a337-7b62c3da0d97"
      },
      "execution_count": 34,
      "outputs": [
        {
          "output_type": "display_data",
          "data": {
            "text/plain": [
              "<Figure size 800x500 with 1 Axes>"
            ],
            "image/png": "[encoded data removed]"
          },
          "metadata": {}
        }
      ]
    },
    {
      "cell_type": "markdown",
      "source": [
        "#Distribuição das categorias de produtos"
      ],
      "metadata": {
        "id": "smLQjpPzymU_"
      }
    },
    {
      "cell_type": "code",
      "source": [
        "cat1 = loja[\"Categoria do Produto\"].value_counts()\n",
        "cat2 = loja2[\"Categoria do Produto\"].value_counts()\n",
        "cat3 = loja3[\"Categoria do Produto\"].value_counts()\n",
        "cat4 = loja4[\"Categoria do Produto\"].value_counts()\n"
      ],
      "metadata": {
        "id": "7xT3qohVysVX"
      },
      "execution_count": 35,
      "outputs": []
    },
    {
      "cell_type": "code",
      "source": [
        "# Junta tudo em um DataFrame com as categorias como índice\n",
        "categorias_df = pd.DataFrame({\n",
        "    \"Loja 1\": cat1,\n",
        "    \"Loja 2\": cat2,\n",
        "    \"Loja 3\": cat3,\n",
        "    \"Loja 4\": cat4\n",
        "}).fillna(0)  # Preenche com 0 onde não há vendas em alguma loja\n"
      ],
      "metadata": {
        "id": "X8NGoVC1ywX5"
      },
      "execution_count": 36,
      "outputs": []
    },
    {
      "cell_type": "code",
      "source": [
        "import matplotlib.pyplot as plt\n",
        "\n",
        "# Plot\n",
        "plt.figure(figsize=(12,6))\n",
        "categorias_df.plot(kind='bar', figsize=(12,6))\n",
        "plt.title(\"Distribuição de Categorias por Loja\")\n",
        "plt.xlabel(\"Categoria do Produto\")\n",
        "plt.ylabel(\"Quantidade Vendida\")\n",
        "plt.xticks(rotation=45, ha='right')\n",
        "plt.legend(title=\"Lojas\")\n",
        "plt.tight_layout()\n",
        "plt.show()\n"
      ],
      "metadata": {
        "colab": {
          "base_uri": "https://localhost:8080/",
          "height": 624
        },
        "id": "h_1FClXsyzc5",
        "outputId": "40c0db78-357f-4ac2-a0ed-7a47e4f2d5e4"
      },
      "execution_count": 37,
      "outputs": [
        {
          "output_type": "display_data",
          "data": {
            "text/plain": [
              "<Figure size 1200x600 with 0 Axes>"
            ]
          },
          "metadata": {}
        },
        {
          "output_type": "display_data",
          "data": {
            "text/plain": [
              "<Figure size 1200x600 with 1 Axes>"
            ],
            "image/png": "[encoded data removed]"
          },
          "metadata": {}
        }
      ]
    },
    {
      "cell_type": "markdown",
      "source": [
        "#Avaliações dos clientes"
      ],
      "metadata": {
        "id": "RsxRs78RzWJh"
      }
    },
    {
      "cell_type": "code",
      "source": [
        "# Dados para o gráfico\n",
        "lojas = [\"Loja 1\", \"Loja 2\", \"Loja 3\", \"Loja 4\"]\n",
        "avaliacoes = [media_avaliacao_loja1, media_avaliacao_loja2, media_avaliacao_loja3, media_avaliacao_loja4]\n",
        "\n",
        "import matplotlib.pyplot as plt\n",
        "\n",
        "# Plot\n",
        "plt.figure(figsize=(8,5))\n",
        "plt.bar(lojas, avaliacoes, color=\"lightcoral\")\n",
        "plt.title(\"Média de Avaliação por Loja\")\n",
        "plt.xlabel(\"Loja\")\n",
        "plt.ylabel(\"Média de Avaliação\")\n",
        "plt.ylim(0, 5)  # Limita a escala de Y de 0 a 5 (média de avaliação)\n",
        "# Definir um intervalo de ticks para quebrar melhor a escala\n",
        "plt.yticks([i * 0.2 for i in range(25)])  # Ajusta a escala para intervalos de 0.1\n",
        "plt.tight_layout()\n",
        "plt.show()\n",
        "\n",
        "\n"
      ],
      "metadata": {
        "colab": {
          "base_uri": "https://localhost:8080/",
          "height": 507
        },
        "id": "XOkWLHqEzZ9L",
        "outputId": "5197fdee-ef4c-4358-c863-2a1a824f3904"
      },
      "execution_count": 50,
      "outputs": [
        {
          "output_type": "display_data",
          "data": {
            "text/plain": [
              "<Figure size 800x500 with 1 Axes>"
            ],
            "image/png": "[encoded data removed]"
          },
          "metadata": {}
        }
      ]
    },
    {
      "cell_type": "markdown",
      "source": [
        "#Relatório Final"
      ],
      "metadata": {
        "id": "HTcLfgxl0zbA"
      }
    },
    {
      "cell_type": "markdown",
      "source": [
        "O objetivo desta análise é auxiliar o Senhor João na tomada de decisão sobre qual loja deve ser vendida. Para isso, realizamos uma análise completa dos dados de quatro lojas, considerando fatores como faturamento total, categorias de produtos mais e menos vendidas, avaliações dos clientes, produtos com maior e menor volume de vendas e o custo médio de frete por loja.\n",
        "\n",
        "Analisando o faturamento de cada loja, observamos que a Loja 1 apresentou o maior valor total em vendas, enquanto a Loja 4 teve o menor desempenho nesse quesito. Este é um fator importante para medir a lucratividade direta de cada unidade.\n",
        "\n",
        "As categorias mais vendidas é algo comum entre as lojas, moveis foi a mais popular, indicando uma tendência de consumo. Por outro lado, categorias como utilidades domesticas apresentaram baixo desempenho em vendas em 3 das 4 lojas, podendo indicar pouco interesse do público ou estoque mal direcionado.\n",
        "\n",
        "Em relação à satisfação dos clientes, a Loja 2 teve a melhor média de avaliação, com uma média superior a 4.0, indicando uma boa experiência do consumidor. Já a Loja 4 teve a menor média, o que pode sinalizar problemas no atendimento, na qualidade dos produtos ou na logística.\n",
        "\n",
        "A loja com o menor custo médio de frete foi a Loja 4, o que é um ponto positivo, pois impacta diretamente na decisão de compra do cliente. A Loja 1, por outro lado, teve o frete mais caro, o que pode ser um dos fatores que influenciam negativamente seu desempenho geral.\n",
        "\n",
        "✅ Conclusão:\n",
        "\n",
        "Com base em todos os dados analisados, recomendamos que o Senhor João venda a Loja 4. Essa decisão é justificada pelos seguintes pontos:\n",
        "\n",
        "Baixo faturamento em comparação com as demais lojas;\n",
        "\n",
        "Avaliações abaixo da média, indicando insatisfação dos clientes;\n",
        "\n",
        "Baixo desempenho nas vendas de categorias e produtos populares.\n",
        "\n",
        "Por outro lado, sugerimos que o Senhor João mantenha a Loja 1, pois ela demonstra:\n",
        "\n",
        "Alto faturamento;\n",
        "\n",
        "Avaliações positivas;\n",
        "\n",
        "Boa variedade e volume de vendas de produtos;\n",
        "\n",
        "Essa recomendação é baseada em dados concretos, obtidos por meio de análises estatísticas e visualizações gráficas, garantindo assim uma decisão embasada e segura."
      ],
      "metadata": {
        "id": "XRiMzqpA01qZ"
      }
    }
  ]
}